{
 "cells": [
  {
   "cell_type": "code",
   "execution_count": 1,
   "id": "9747feb4",
   "metadata": {},
   "outputs": [
    {
     "name": "stdout",
     "output_type": "stream",
     "text": [
      "Requirement already satisfied: groq in c:\\users\\jomon\\appdata\\local\\programs\\python\\python313\\lib\\site-packages (0.31.0)\n",
      "Requirement already satisfied: pandas in c:\\users\\jomon\\appdata\\local\\programs\\python\\python313\\lib\\site-packages (2.3.1)\n",
      "Requirement already satisfied: openpyxl in c:\\users\\jomon\\appdata\\local\\programs\\python\\python313\\lib\\site-packages (3.1.5)\n",
      "Collecting PyPDF2\n",
      "  Downloading pypdf2-3.0.1-py3-none-any.whl.metadata (6.8 kB)\n",
      "Requirement already satisfied: PyMuPDF in c:\\users\\jomon\\appdata\\local\\programs\\python\\python313\\lib\\site-packages (1.26.4)\n",
      "Requirement already satisfied: anyio<5,>=3.5.0 in c:\\users\\jomon\\appdata\\local\\programs\\python\\python313\\lib\\site-packages (from groq) (4.9.0)\n",
      "Requirement already satisfied: distro<2,>=1.7.0 in c:\\users\\jomon\\appdata\\local\\programs\\python\\python313\\lib\\site-packages (from groq) (1.9.0)\n",
      "Requirement already satisfied: httpx<1,>=0.23.0 in c:\\users\\jomon\\appdata\\local\\programs\\python\\python313\\lib\\site-packages (from groq) (0.28.1)\n",
      "Requirement already satisfied: pydantic<3,>=1.9.0 in c:\\users\\jomon\\appdata\\local\\programs\\python\\python313\\lib\\site-packages (from groq) (2.11.7)\n",
      "Requirement already satisfied: sniffio in c:\\users\\jomon\\appdata\\local\\programs\\python\\python313\\lib\\site-packages (from groq) (1.3.1)\n",
      "Requirement already satisfied: typing-extensions<5,>=4.10 in c:\\users\\jomon\\appdata\\local\\programs\\python\\python313\\lib\\site-packages (from groq) (4.14.1)\n",
      "Requirement already satisfied: idna>=2.8 in c:\\users\\jomon\\appdata\\local\\programs\\python\\python313\\lib\\site-packages (from anyio<5,>=3.5.0->groq) (3.10)\n",
      "Requirement already satisfied: certifi in c:\\users\\jomon\\appdata\\local\\programs\\python\\python313\\lib\\site-packages (from httpx<1,>=0.23.0->groq) (2025.7.14)\n",
      "Requirement already satisfied: httpcore==1.* in c:\\users\\jomon\\appdata\\local\\programs\\python\\python313\\lib\\site-packages (from httpx<1,>=0.23.0->groq) (1.0.9)\n",
      "Requirement already satisfied: h11>=0.16 in c:\\users\\jomon\\appdata\\local\\programs\\python\\python313\\lib\\site-packages (from httpcore==1.*->httpx<1,>=0.23.0->groq) (0.16.0)\n",
      "Requirement already satisfied: annotated-types>=0.6.0 in c:\\users\\jomon\\appdata\\local\\programs\\python\\python313\\lib\\site-packages (from pydantic<3,>=1.9.0->groq) (0.7.0)\n",
      "Requirement already satisfied: pydantic-core==2.33.2 in c:\\users\\jomon\\appdata\\local\\programs\\python\\python313\\lib\\site-packages (from pydantic<3,>=1.9.0->groq) (2.33.2)\n",
      "Requirement already satisfied: typing-inspection>=0.4.0 in c:\\users\\jomon\\appdata\\local\\programs\\python\\python313\\lib\\site-packages (from pydantic<3,>=1.9.0->groq) (0.4.1)\n",
      "Requirement already satisfied: numpy>=1.26.0 in c:\\users\\jomon\\appdata\\local\\programs\\python\\python313\\lib\\site-packages (from pandas) (2.3.2)\n",
      "Requirement already satisfied: python-dateutil>=2.8.2 in c:\\users\\jomon\\appdata\\roaming\\python\\python313\\site-packages (from pandas) (2.9.0.post0)\n",
      "Requirement already satisfied: pytz>=2020.1 in c:\\users\\jomon\\appdata\\local\\programs\\python\\python313\\lib\\site-packages (from pandas) (2025.2)\n",
      "Requirement already satisfied: tzdata>=2022.7 in c:\\users\\jomon\\appdata\\local\\programs\\python\\python313\\lib\\site-packages (from pandas) (2025.2)\n",
      "Requirement already satisfied: et-xmlfile in c:\\users\\jomon\\appdata\\local\\programs\\python\\python313\\lib\\site-packages (from openpyxl) (2.0.0)\n",
      "Requirement already satisfied: six>=1.5 in c:\\users\\jomon\\appdata\\roaming\\python\\python313\\site-packages (from python-dateutil>=2.8.2->pandas) (1.17.0)\n",
      "Downloading pypdf2-3.0.1-py3-none-any.whl (232 kB)\n",
      "Installing collected packages: PyPDF2\n",
      "Successfully installed PyPDF2-3.0.1\n"
     ]
    }
   ],
   "source": [
    "!pip install groq pandas openpyxl PyPDF2 PyMuPDF"
   ]
  },
  {
   "cell_type": "code",
   "execution_count": 3,
   "id": "1d77fe65",
   "metadata": {},
   "outputs": [],
   "source": [
    "import pandas as pd\n",
    "import json\n",
    "import os\n",
    "from groq import Groq\n",
    "import PyPDF2\n",
    "import fitz  # PyMuPDF for better PDF handling\n",
    "from typing import Dict, List, Optional\n",
    "import re\n",
    "from pathlib import Path"
   ]
  },
  {
   "cell_type": "code",
   "execution_count": null,
   "id": "8bf4612e",
   "metadata": {},
   "outputs": [],
   "source": [
    "GROQ_API_KEY = \"api_key_goes_here\"\n",
    "PDF_FILE_PATH = \"FPS-mock-data.pdf\"\n",
    "OUTPUT_EXCEL_PATH = \"extracted_checkbox_data.xlsx\" "
   ]
  },
  {
   "cell_type": "code",
   "execution_count": 5,
   "id": "41d897a2",
   "metadata": {},
   "outputs": [],
   "source": [
    "def extract_text_from_pdf(self, pdf_path: str) -> str:\n",
    "        \"\"\"\n",
    "        Extract text from PDF file using multiple methods for better accuracy.\n",
    "        \n",
    "        Args:\n",
    "            pdf_path (str): Path to PDF file\n",
    "            \n",
    "        Returns:\n",
    "            str: Extracted text content\n",
    "        \"\"\"\n",
    "        try:\n",
    "            # Method 1: Using PyMuPDF for better text extraction\n",
    "            print(\"Attempting PDF extraction with PyMuPDF...\")\n",
    "            doc = fitz.open(pdf_path)\n",
    "            text = \"\"\n",
    "            for page_num in range(len(doc)):\n",
    "                page = doc[page_num]\n",
    "                text += f\"\\n--- Page {page_num + 1} ---\\n\"\n",
    "                text += page.get_text()\n",
    "            doc.close()\n",
    "            \n",
    "            if text.strip():\n",
    "                print(f\"Successfully extracted {len(text)} characters with PyMuPDF\")\n",
    "                return text\n",
    "                \n",
    "        except Exception as e:\n",
    "            print(f\"PyMuPDF extraction failed: {e}\")\n",
    "        \n",
    "        try:\n",
    "            # Method 2: Fallback to PyPDF2\n",
    "            print(\"Attempting PDF extraction with PyPDF2...\")\n",
    "            with open(pdf_path, 'rb') as file:\n",
    "                pdf_reader = PyPDF2.PdfReader(file)\n",
    "                text = \"\"\n",
    "                for page_num, page in enumerate(pdf_reader.pages):\n",
    "                    text += f\"\\n--- Page {page_num + 1} ---\\n\"\n",
    "                    text += page.extract_text()\n",
    "                    \n",
    "            if text.strip():\n",
    "                print(f\"Successfully extracted {len(text)} characters with PyPDF2\")\n",
    "                return text\n",
    "                \n",
    "        except Exception as e:\n",
    "            print(f\"PyPDF2 extraction failed: {e}\")\n",
    "        \n",
    "        print(\"All PDF extraction methods failed\")\n",
    "        return \"\""
   ]
  },
  {
   "cell_type": "code",
   "execution_count": 8,
   "id": "7604a2b7",
   "metadata": {},
   "outputs": [
    {
     "name": "stdout",
     "output_type": "stream",
     "text": [
      "Attempting PDF extraction with PyMuPDF...\n",
      "Successfully extracted 1169 characters with PyMuPDF\n"
     ]
    }
   ],
   "source": [
    "test = extract_text_from_pdf(None, PDF_FILE_PATH)"
   ]
  },
  {
   "cell_type": "code",
   "execution_count": null,
   "id": "8fdd9378",
   "metadata": {},
   "outputs": [],
   "source": [
    "print(test)"
   ]
  },
  {
   "cell_type": "code",
   "execution_count": 13,
   "id": "0f7e3816",
   "metadata": {},
   "outputs": [],
   "source": [
    "def _fix_and_parse_json(self, json_str: str) -> Dict:\n",
    "    \"\"\"\n",
    "    Attempt to fix common JSON issues and parse.\n",
    "    \"\"\"\n",
    "    try:\n",
    "        # Common fixes\n",
    "        fixed_json = json_str.replace('\\n', ' ').replace('\\t', ' ')\n",
    "        fixed_json = re.sub(r',\\s*}', '}', fixed_json)  # Remove trailing commas\n",
    "        fixed_json = re.sub(r',\\s*]', ']', fixed_json)  # Remove trailing commas in arrays\n",
    "        \n",
    "        return json.loads(fixed_json)\n",
    "    except:\n",
    "        return self._create_fallback_response(json_str)\n",
    "\n",
    "def _create_fallback_response(self, response_text: str) -> Dict:\n",
    "    \"\"\"\n",
    "    Create a fallback response structure.\n",
    "    \"\"\"\n",
    "    return {\n",
    "        \"place_of_performance\": {\n",
    "            \"selected_option\": \"Manual review required\",\n",
    "            \"content\": \"Please check the original document for checkbox selections\"\n",
    "        },\n",
    "        \"remuneration_invoicing\": {\n",
    "            \"selected_options\": [\"Manual review required\"],\n",
    "            \"content\": \"Please check the original document for checkbox selections\",\n",
    "            \"table\": {\n",
    "                \"included\": False,\n",
    "                \"data\": []\n",
    "            }\n",
    "        },\n",
    "        \"raw_response\": response_text[:500] + \"...\" if len(response_text) > 500 else response_text\n",
    "    }"
   ]
  },
  {
   "cell_type": "code",
   "execution_count": 14,
   "id": "178e5cdd",
   "metadata": {},
   "outputs": [],
   "source": [
    "client = Groq(api_key=GROQ_API_KEY)\n",
    "def analyze_document_with_groq(text_content: str) -> Dict:\n",
    "    \"\"\"\n",
    "    Use Groq API to analyze the document and identify checked checkboxes.\n",
    "    \n",
    "    Args:\n",
    "        text_content (str): Text content from PDF\n",
    "        \n",
    "    Returns:\n",
    "        Dict: Structured data with extracted information\n",
    "    \"\"\"\n",
    "    prompt = f\"\"\"\n",
    "    Analyze the following document content and extract information based on checked checkboxes:\n",
    "\n",
    "    DOCUMENT CONTENT:\n",
    "    {text_content}\n",
    "\n",
    "    TASK:\n",
    "    Please analyze this document and extract information for checked/selected options only:\n",
    "\n",
    "    1. For \"Place of performance\" section:\n",
    "        - Look for checkbox symbols like \"区\", \"✓\", \"☑\", \"[x]\", \"[X]\" or similar markers\n",
    "        - Identify which checkbox option is marked (checked/selected)\n",
    "        - Extract all relevant content for the checked option only\n",
    "        - If \"others\" is selected, extract the complete location details (Name, Street, City, Country)\n",
    "\n",
    "    2. For \"Remuneration/Invoicing\" section:\n",
    "        - Look for checkbox symbols that indicate selection\n",
    "        - Identify which remuneration options are checked (there can be multiple)\n",
    "        - For each checked option, extract the complete content\n",
    "        - If option 2 (\"Remuneration based on time expended and on the hourly/daily rates\") OR option 3 (\"Remuneration based on time expended with upper limit\") is checked, also extract the complete table with all data\n",
    "        - Pay special attention to the checkbox symbol \"区\" which appears to indicate selection\n",
    "\n",
    "    IMPORTANT: Only extract content for options that are actually checked/marked. Empty checkboxes should be ignored.\n",
    "\n",
    "    Return the result as a valid JSON object with this exact structure:\n",
    "    {{\n",
    "        \"place_of_performance\": {{\n",
    "            \"selected_option\": \"description of the selected option\",\n",
    "            \"content\": \"complete content for the selected option including all details\"\n",
    "        }},\n",
    "        \"remuneration_invoicing\": {{\n",
    "            \"selected_options\": [\"list of selected option descriptions\"],\n",
    "            \"content\": \"complete content for all selected options\",\n",
    "            \"table\": {{\n",
    "                \"included\": true,\n",
    "                \"data\": [\n",
    "                    {{\"Contractual_Service\": \"value\", \"Service_Category\": \"value\", \"Skill_level\": \"value\", \"Numbers_of_units\": \"value\", \"Unit\": \"value\", \"Price_per_unit_EUR\": \"value\", \"Total_EUR\": \"value\"}}\n",
    "                ]\n",
    "            }}\n",
    "        }}\n",
    "    }}\n",
    "    \"\"\"\n",
    "\n",
    "    try:\n",
    "        print(\"Sending request to Groq API...\")\n",
    "        response = client.chat.completions.create(\n",
    "            model=\"openai/gpt-oss-120b\",  # You can also use \"mixtral-8x7b-32768\" or \"gemma-7b-it\"\n",
    "            messages=[\n",
    "                {\n",
    "                    \"role\": \"system\", \n",
    "                    \"content\": \"You are an expert document analyzer specializing in extracting checkbox-based content from legal and business documents. Always return valid JSON responses.\"\n",
    "                },\n",
    "                {\"role\": \"user\", \"content\": prompt}\n",
    "            ],\n",
    "            temperature=0.1,\n",
    "            max_tokens=3000\n",
    "        )\n",
    "        \n",
    "        response_text = response.choices[0].message.content.strip()\n",
    "        print(f\"Received response from Groq API ({len(response_text)} characters)\")\n",
    "        \n",
    "        # Try to extract JSON from response\n",
    "        json_start = response_text.find('{')\n",
    "        json_end = response_text.rfind('}') + 1\n",
    "        \n",
    "        if json_start != -1 and json_end != -1:\n",
    "            json_str = response_text[json_start:json_end]\n",
    "            try:\n",
    "                parsed_data = json.loads(json_str)\n",
    "                print(\"Successfully parsed JSON response\")\n",
    "                return parsed_data\n",
    "            except json.JSONDecodeError as e:\n",
    "                print(f\"JSON parsing error: {e}\")\n",
    "                print(f\"Attempting to fix JSON...\")\n",
    "                return _fix_and_parse_json(json_str)\n",
    "        else:\n",
    "            print(\"No JSON found in response\")\n",
    "            return _create_fallback_response(response_text)\n",
    "            \n",
    "    except Exception as e:\n",
    "        print(f\"Error with Groq API: {e}\")\n",
    "        return _create_fallback_response(\"\")"
   ]
  },
  {
   "cell_type": "code",
   "execution_count": 16,
   "id": "e030e331",
   "metadata": {},
   "outputs": [
    {
     "name": "stdout",
     "output_type": "stream",
     "text": [
      "Sending request to Groq API...\n",
      "Received response from Groq API (1081 characters)\n",
      "Successfully parsed JSON response\n"
     ]
    }
   ],
   "source": [
    "result = analyze_document_with_groq(test)"
   ]
  },
  {
   "cell_type": "code",
   "execution_count": 18,
   "id": "f3154aa2",
   "metadata": {},
   "outputs": [
    {
     "data": {
      "text/plain": [
       "{'place_of_performance': {'selected_option': 'others (please specify)',\n",
       "  'content': 'Location Name: Techzone\\nStreet: Kazhakootam\\nCity: Trivandrum\\nCountry: India'},\n",
       " 'remuneration_invoicing': {'selected_options': ['Remuneration based on time expended (see table below with cost estimate) with an upper limit of EUR 40000 EUR (net) pursuant to Section 8.2.3 of the GTC.'],\n",
       "  'content': 'Remuneration based on time expended (see table below with cost estimate) with an upper limit of EUR 40000 EUR (net) pursuant to Section 8.2.3 of the GTC.',\n",
       "  'table': {'included': True,\n",
       "   'data': [{'Contractual_Service': 'Software engineer',\n",
       "     'Service_Category': 'SCO2',\n",
       "     'Skill_level': 'Expert',\n",
       "     'Numbers_of_units': '40',\n",
       "     'Unit': 'Man day',\n",
       "     'Price_per_unit_EUR': '1000',\n",
       "     'Total_EUR': '40000'}]}}}"
      ]
     },
     "execution_count": 18,
     "metadata": {},
     "output_type": "execute_result"
    }
   ],
   "source": [
    "result"
   ]
  },
  {
   "cell_type": "code",
   "execution_count": 19,
   "id": "d1f7b355",
   "metadata": {},
   "outputs": [],
   "source": [
    "def create_excel_output(extracted_data: Dict, output_path: str = \"extracted_data.xlsx\") -> str:\n",
    "        \"\"\"\n",
    "        Create Excel file with extracted data.\n",
    "        \n",
    "        Args:\n",
    "            extracted_data (Dict): Extracted and structured data\n",
    "            output_path (str): Output Excel file path\n",
    "            \n",
    "        Returns:\n",
    "            str: Path to created Excel file\n",
    "        \"\"\"\n",
    "        try:\n",
    "            # Prepare data for Excel\n",
    "            place_data = extracted_data.get(\"place_of_performance\", {})\n",
    "            remuner_data = extracted_data.get(\"remuneration_invoicing\", {})\n",
    "            \n",
    "            # Create main data row\n",
    "            main_data = {\n",
    "                \"Place of Performance\": place_data.get(\"content\", \"\"),\n",
    "                \"Remuneration/Invoicing\": remuner_data.get(\"content\", \"\"),\n",
    "                \"Selected Place Option\": place_data.get(\"selected_option\", \"\"),\n",
    "                \"Selected Remuneration Options\": \", \".join(remuner_data.get(\"selected_options\", [])),\n",
    "                \"Table Included\": remuner_data.get(\"table\", {}).get(\"included\", False),\n",
    "                \"Extraction Timestamp\": pd.Timestamp.now().strftime(\"%Y-%m-%d %H:%M:%S\")\n",
    "            }\n",
    "            \n",
    "            # Create DataFrame for main data\n",
    "            main_df = pd.DataFrame([main_data])\n",
    "            \n",
    "            # Create Excel writer\n",
    "            with pd.ExcelWriter(output_path, engine='openpyxl') as writer:\n",
    "                # Write main extracted data\n",
    "                main_df.to_excel(writer, sheet_name='Extracted_Data', index=False)\n",
    "                \n",
    "                # Write table data if available\n",
    "                table_data = remuner_data.get(\"table\", {}).get(\"data\", [])\n",
    "                if table_data and isinstance(table_data, list) and len(table_data) > 0:\n",
    "                    table_df = pd.DataFrame(table_data)\n",
    "                    table_df.to_excel(writer, sheet_name='Remuneration_Table', index=False)\n",
    "                    print(f\"Table data exported: {len(table_data)} rows\")\n",
    "                \n",
    "                # Write raw data for debugging\n",
    "                raw_data = {\n",
    "                    \"Section\": [\"Place of Performance\", \"Remuneration/Invoicing\"],\n",
    "                    \"Raw_Data\": [str(place_data), str(remuner_data)]\n",
    "                }\n",
    "                raw_df = pd.DataFrame(raw_data)\n",
    "                raw_df.to_excel(writer, sheet_name='Raw_Data', index=False)\n",
    "            \n",
    "            print(f\"Excel file successfully created: {output_path}\")\n",
    "            return output_path\n",
    "            \n",
    "        except Exception as e:\n",
    "            print(f\"Error creating Excel file: {e}\")\n",
    "            return \"\""
   ]
  },
  {
   "cell_type": "code",
   "execution_count": 20,
   "id": "c22b807a",
   "metadata": {},
   "outputs": [
    {
     "name": "stdout",
     "output_type": "stream",
     "text": [
      "Table data exported: 1 rows\n",
      "Excel file successfully created: extracted_checkbox_data.xlsx\n",
      "✅ Excel file created: extracted_checkbox_data.xlsx\n"
     ]
    }
   ],
   "source": [
    "excel_path = create_excel_output(result, OUTPUT_EXCEL_PATH)\n",
    "if excel_path:\n",
    "    print(f\"✅ Excel file created: {excel_path}\")\n",
    "else:\n",
    "    print(\"❌ Failed to create Excel file\")"
   ]
  },
  {
   "cell_type": "code",
   "execution_count": null,
   "id": "56015851",
   "metadata": {},
   "outputs": [],
   "source": []
  }
 ],
 "metadata": {
  "kernelspec": {
   "display_name": "Python 3",
   "language": "python",
   "name": "python3"
  },
  "language_info": {
   "codemirror_mode": {
    "name": "ipython",
    "version": 3
   },
   "file_extension": ".py",
   "mimetype": "text/x-python",
   "name": "python",
   "nbconvert_exporter": "python",
   "pygments_lexer": "ipython3",
   "version": "3.13.3"
  }
 },
 "nbformat": 4,
 "nbformat_minor": 5
}
